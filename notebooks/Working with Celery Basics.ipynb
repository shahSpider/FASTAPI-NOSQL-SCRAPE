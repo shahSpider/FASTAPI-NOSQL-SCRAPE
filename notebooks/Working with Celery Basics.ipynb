{
 "cells": [
  {
   "cell_type": "code",
   "execution_count": 3,
   "id": "31174e06-9f15-4a95-9770-4df01ea238ed",
   "metadata": {},
   "outputs": [
    {
     "name": "stdout",
     "output_type": "stream",
     "text": [
      "/home/darkshadow/mycodinghub/fastapi-nosql-scrape\n"
     ]
    }
   ],
   "source": [
    "cd /home/darkshadow/mycodinghub/fastapi-nosql-scrape/"
   ]
  },
  {
   "cell_type": "code",
   "execution_count": 11,
   "id": "dbe9b435-5871-460c-892e-842238a5b422",
   "metadata": {},
   "outputs": [],
   "source": [
    "from app.worker import random_task"
   ]
  },
  {
   "cell_type": "code",
   "execution_count": 10,
   "id": "e3c63f0c-d95b-47c2-843a-b6fd16cde2e9",
   "metadata": {},
   "outputs": [
    {
     "name": "stdout",
     "output_type": "stream",
     "text": [
      "Who throw a shoe. Honestly Juliet.\n"
     ]
    }
   ],
   "source": [
    "random_task(\"Juliet\")"
   ]
  },
  {
   "cell_type": "code",
   "execution_count": 13,
   "id": "5f3fe128-7a47-4d88-9169-7243646e7f6e",
   "metadata": {},
   "outputs": [
    {
     "data": {
      "text/plain": [
       "<AsyncResult: 2f26de3e-f38d-4687-9d87-c683b15880ef>"
      ]
     },
     "execution_count": 13,
     "metadata": {},
     "output_type": "execute_result"
    }
   ],
   "source": [
    "random_task.delay(\"Rizvy\")"
   ]
  },
  {
   "cell_type": "code",
   "execution_count": 15,
   "id": "b925ed5b-3361-41b3-8080-a449f6b4faca",
   "metadata": {},
   "outputs": [],
   "source": [
    "for i in range(10):\n",
    "    random_task.delay(f\"Rizvy {i}\")"
   ]
  },
  {
   "cell_type": "code",
   "execution_count": 18,
   "id": "8a691d4e-3ec5-457f-b680-1d4f573ea2bb",
   "metadata": {},
   "outputs": [],
   "source": [
    "for i in range(10):\n",
    "    random_task.apply_async(args=(f\"Justin-{i}\",), countdown=100)"
   ]
  },
  {
   "cell_type": "code",
   "execution_count": null,
   "id": "4f900c8d-687b-45a0-9ff5-d2f70458798b",
   "metadata": {},
   "outputs": [],
   "source": []
  }
 ],
 "metadata": {
  "kernelspec": {
   "display_name": "Python 3 (ipykernel)",
   "language": "python",
   "name": "python3"
  },
  "language_info": {
   "codemirror_mode": {
    "name": "ipython",
    "version": 3
   },
   "file_extension": ".py",
   "mimetype": "text/x-python",
   "name": "python",
   "nbconvert_exporter": "python",
   "pygments_lexer": "ipython3",
   "version": "3.10.12"
  }
 },
 "nbformat": 4,
 "nbformat_minor": 5
}
