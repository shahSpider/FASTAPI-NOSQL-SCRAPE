{
 "cells": [
  {
   "cell_type": "code",
   "execution_count": 43,
   "id": "4490129a-3644-467b-ac4d-2f677c5e66b7",
   "metadata": {},
   "outputs": [
    {
     "name": "stdout",
     "output_type": "stream",
     "text": [
      "/home/darkshadow/mycodinghub/fastapi-nosql-scrape\n"
     ]
    },
    {
     "name": "stderr",
     "output_type": "stream",
     "text": [
      "/home/darkshadow/mycodinghub/fastapi-nosql-scrape/lib/python3.10/site-packages/IPython/core/magics/osm.py:417: UserWarning: This is now an optional IPython functionality, setting dhist requires you to install the `pickleshare` library.\n",
      "  self.shell.db['dhist'] = compress_dhist(dhist)[-100:]\n"
     ]
    }
   ],
   "source": [
    "cd '/home/darkshadow/mycodinghub/fastapi-nosql-scrape/'"
   ]
  },
  {
   "cell_type": "code",
   "execution_count": 44,
   "id": "1e2830b3-7bce-4d53-9308-21c27e8140c7",
   "metadata": {},
   "outputs": [],
   "source": [
    "from app import scraper\n",
    "from requests_html import HTML\n",
    "from slugify import slugify\n",
    "import pprint\n",
    "import re"
   ]
  },
  {
   "cell_type": "code",
   "execution_count": 45,
   "id": "c0122da4-03b8-4a58-9fe7-fafac0a7b6ff",
   "metadata": {},
   "outputs": [],
   "source": [
    "url = \"https://www.amazon.com/Vita-Prep-Explorian-Commercial-Container-Warranty/dp/B0CB8J793R/ref=sr_1_1_sspa?crid=123H40Z2FWPK9&dib=eyJ2IjoiMSJ9.W2cBja_MKochFhWAIGO0YZjg4_HheUF5sxXBWOHqFkEf4bNFBJxnGgEGb5SQvhYiHKB63keSyaOK0Y6wcyUeLlRz9IZiltXsUE9B15a9WxNDQzqz0lcqzM7BY-O1r5KufgyrhVfHUMjqtEwF5Bx_gQ--r67zEUY58e4y-niPr2--VOu51cStJfS66F33L4lvlnKuCZY1F08urjJO8duzAa4J8FbiNDZazz3w9xqdOdFkqBB-Q8c1-HvXRfPrOnHGgiK5DTag1tEQqV_li7tZqufqRzLg_1cY9KRIgy-e4_s.xCp8M7Ws_Zsa8k-JWsfxLRe6I1fth339p0kEVzzWQ3E&dib_tag=se&keywords=vitamix%2Bblender%2Bparts&qid=1731612355&sprefix=vitamix%2Caps%2C256&sr=8-1-spons&sp_csd=d2lkZ2V0TmFtZT1zcF9hdGY&th=1\""
   ]
  },
  {
   "cell_type": "code",
   "execution_count": 46,
   "id": "c3e07e18-e7ad-4b25-a0b7-373fe3b71849",
   "metadata": {},
   "outputs": [],
   "source": [
    "s = scraper.Scraper(url=url, endless_scroll=True)"
   ]
  },
  {
   "cell_type": "code",
   "execution_count": 47,
   "id": "82cea4c9-12fc-4ca7-8a46-8db923375dfb",
   "metadata": {},
   "outputs": [],
   "source": [
    "html_str = s.get()"
   ]
  },
  {
   "cell_type": "code",
   "execution_count": 48,
   "id": "5e0c9f17-aadc-4890-b77a-4719502afce8",
   "metadata": {},
   "outputs": [],
   "source": [
    "html_obj = HTML(html=html_str)"
   ]
  },
  {
   "cell_type": "code",
   "execution_count": 49,
   "id": "0efd74d4-d9e6-48c2-9944-d63224110bbb",
   "metadata": {},
   "outputs": [],
   "source": [
    "def extract_element_text(html_obj, element_id):\n",
    "    el  = html_obj.find(element_id, first=True)\n",
    "    if not el:\n",
    "        return ''\n",
    "    return el.text"
   ]
  },
  {
   "cell_type": "code",
   "execution_count": 50,
   "id": "52c3c4a9-80ee-49e3-8316-f6483b2732ef",
   "metadata": {},
   "outputs": [
    {
     "data": {
      "text/plain": [
       "'$59.99'"
      ]
     },
     "execution_count": 50,
     "metadata": {},
     "output_type": "execute_result"
    }
   ],
   "source": [
    "price_str = extract_element_text(html_obj, \".a-price\")\n",
    "price_str"
   ]
  },
  {
   "cell_type": "code",
   "execution_count": 51,
   "id": "d5038d0f-7eb0-43a1-b673-747fe70f7a90",
   "metadata": {},
   "outputs": [
    {
     "data": {
      "text/plain": [
       "'For Vitamix Blender Pitcher 64oz,Replace for Vitamix 5200 5000 6300 7500 VM0197 VM0101 VM0100 VM0103 E310 Asy172 Classic/Explorian/Commercial Series etc Container Jar Cup,10 Years Warranty'"
      ]
     },
     "execution_count": 51,
     "metadata": {},
     "output_type": "execute_result"
    }
   ],
   "source": [
    "title_str = extract_element_text(html_obj, \"#title\")\n",
    "title_str"
   ]
  },
  {
   "cell_type": "code",
   "execution_count": 52,
   "id": "06d9c574-f809-49e9-931e-2a35b0973f95",
   "metadata": {},
   "outputs": [],
   "source": [
    "def extract_tables(html_obj):\n",
    "    return html_obj.find(\"table\")"
   ]
  },
  {
   "cell_type": "code",
   "execution_count": 53,
   "id": "a7f3a536-defb-4e2b-a6b1-7ad6594178cf",
   "metadata": {},
   "outputs": [],
   "source": [
    "tables = extract_tables(html_obj)"
   ]
  },
  {
   "cell_type": "code",
   "execution_count": 54,
   "id": "e8474578-99b9-4247-bd80-38b7bb24264d",
   "metadata": {},
   "outputs": [],
   "source": [
    "def extract_price_from_string(value: str, regex=r\"[\\$]{1}[\\d,]+\\.?\\d{0,2}\"):\n",
    "    x = re.findall(regex, value)\n",
    "    val = None\n",
    "    if len(x) == 1:\n",
    "        val = x[0]\n",
    "    return val"
   ]
  },
  {
   "cell_type": "code",
   "execution_count": 55,
   "id": "48cef94b-0206-4828-acd2-1a0c2f504369",
   "metadata": {},
   "outputs": [],
   "source": [
    "def extract_dataset(tables):\n",
    "    dataset = {}\n",
    "    for table in tables:\n",
    "        for tbody in table.element.getchildren():\n",
    "            for tr in tbody.getchildren():\n",
    "                row = []\n",
    "                for col in tr.getchildren():\n",
    "                    content = \"\"\n",
    "                    try:\n",
    "                        content = col.text_content()\n",
    "                    except:\n",
    "                        pass\n",
    "                    if content != \"\":\n",
    "                        _content = content.strip()\n",
    "                        row.append(_content)\n",
    "                if len(row) != 2:\n",
    "                    continue\n",
    "                key = row[0]\n",
    "                value = row[1]\n",
    "                data = {}\n",
    "                key = slugify(key)\n",
    "                if key in dataset:\n",
    "                    continue\n",
    "                else:\n",
    "                    if \"$\" in value:\n",
    "                        new_key = key\n",
    "                        old_key = f'{key}_raw'\n",
    "                        new_value = value\n",
    "                        old_value = value\n",
    "                        dataset[new_key] = new_value\n",
    "                        dataset[old_key] = old_value\n",
    "                    else:\n",
    "                        dataset[key] = value\n",
    "    return dataset"
   ]
  },
  {
   "cell_type": "code",
   "execution_count": 56,
   "id": "ca26a6f0-4abc-479b-94f5-2c9916d0fb45",
   "metadata": {},
   "outputs": [
    {
     "name": "stdout",
     "output_type": "stream",
     "text": [
      "{'amazonglobal-shipping': '$73.91',\n",
      " 'amazonglobal-shipping_raw': '$73.91',\n",
      " 'asin': '\\u200eB0CB8J793R',\n",
      " 'best-sellers-rank': '#63,332 in Home & Kitchen (See Top 100 in Home & '\n",
      "                      'Kitchen) \\n'\n",
      "                      '\\n'\n",
      "                      '#60 in Blender Replacement Parts',\n",
      " 'capacity': '4 Pounds',\n",
      " 'country-of-origin': '\\u200eChina',\n",
      " 'customer-reviews': '4.2 out of 5 stars  202Reviews',\n",
      " 'date-first-available': '\\u200eJuly 6, 2023',\n",
      " 'estimated-import-charges': '$543.95',\n",
      " 'estimated-import-charges_raw': '$543.95',\n",
      " 'item-weight': '\\u200e2.99 pounds',\n",
      " 'price': '$59.99',\n",
      " 'price_raw': '$59.99',\n",
      " 'product-dimensions': '6.29\"D x 6.3\"W x 11.8\"H',\n",
      " 'total': '$677.85',\n",
      " 'total_raw': '$677.85'}\n"
     ]
    }
   ],
   "source": [
    "dataset = extract_dataset(tables)\n",
    "pprint.pprint(dataset)"
   ]
  },
  {
   "cell_type": "code",
   "execution_count": null,
   "id": "d6cbb09a-3bf0-4cd2-b0af-de69b566028f",
   "metadata": {},
   "outputs": [],
   "source": []
  }
 ],
 "metadata": {
  "kernelspec": {
   "display_name": "Python 3 (ipykernel)",
   "language": "python",
   "name": "python3"
  },
  "language_info": {
   "codemirror_mode": {
    "name": "ipython",
    "version": 3
   },
   "file_extension": ".py",
   "mimetype": "text/x-python",
   "name": "python",
   "nbconvert_exporter": "python",
   "pygments_lexer": "ipython3",
   "version": "3.10.12"
  }
 },
 "nbformat": 4,
 "nbformat_minor": 5
}
