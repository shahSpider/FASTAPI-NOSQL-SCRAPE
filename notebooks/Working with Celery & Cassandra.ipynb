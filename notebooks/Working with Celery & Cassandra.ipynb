{
 "cells": [
  {
   "cell_type": "code",
   "execution_count": 6,
   "id": "31174e06-9f15-4a95-9770-4df01ea238ed",
   "metadata": {},
   "outputs": [
    {
     "name": "stdout",
     "output_type": "stream",
     "text": [
      "/home/darkshadow/mycodinghub/fastapi-nosql-scrape\n"
     ]
    },
    {
     "name": "stderr",
     "output_type": "stream",
     "text": [
      "/home/darkshadow/mycodinghub/fastapi-nosql-scrape/lib/python3.10/site-packages/IPython/core/magics/osm.py:417: UserWarning: This is now an optional IPython functionality, setting dhist requires you to install the `pickleshare` library.\n",
      "  self.shell.db['dhist'] = compress_dhist(dhist)[-100:]\n"
     ]
    }
   ],
   "source": [
    "cd /home/darkshadow/mycodinghub/fastapi-nosql-scrape/"
   ]
  },
  {
   "cell_type": "code",
   "execution_count": 19,
   "id": "dbe9b435-5871-460c-892e-842238a5b422",
   "metadata": {},
   "outputs": [],
   "source": [
    "from app.worker import random_task, list_products\n",
    "from app import db"
   ]
  },
  {
   "cell_type": "code",
   "execution_count": 21,
   "id": "cfe7b7be-1bb6-45fa-9c9b-857fd754d8d4",
   "metadata": {},
   "outputs": [
    {
     "name": "stdout",
     "output_type": "stream",
     "text": [
      "['TESTHTTP10X', 'TESTHTTP103', 'AMZNNUMBERID', 'AMZNNUMBERID2', 'NMZJHDLND', 'AMZNNUMBERIDX', 'TESTHTTP102', 'TESTHTTP101', 'AMZNCHJDFDSLX', 'AMZNNUMBERID3', 'TESTHTTP']\n"
     ]
    }
   ],
   "source": [
    "session = db.get_session()\n",
    "list_products()"
   ]
  },
  {
   "cell_type": "code",
   "execution_count": 22,
   "id": "0dcbaf1c-687d-4b82-84ab-fc35b2d71e7d",
   "metadata": {},
   "outputs": [
    {
     "data": {
      "text/plain": [
       "<AsyncResult: c295f15c-158f-4e35-9213-5bb0afeca0ea>"
      ]
     },
     "execution_count": 22,
     "metadata": {},
     "output_type": "execute_result"
    }
   ],
   "source": [
    "list_products.delay()"
   ]
  },
  {
   "cell_type": "code",
   "execution_count": null,
   "id": "71a1359c-7d82-4c9d-9ad3-125e73c66579",
   "metadata": {},
   "outputs": [],
   "source": []
  }
 ],
 "metadata": {
  "kernelspec": {
   "display_name": "Python 3 (ipykernel)",
   "language": "python",
   "name": "python3"
  },
  "language_info": {
   "codemirror_mode": {
    "name": "ipython",
    "version": 3
   },
   "file_extension": ".py",
   "mimetype": "text/x-python",
   "name": "python",
   "nbconvert_exporter": "python",
   "pygments_lexer": "ipython3",
   "version": "3.10.12"
  }
 },
 "nbformat": 4,
 "nbformat_minor": 5
}
