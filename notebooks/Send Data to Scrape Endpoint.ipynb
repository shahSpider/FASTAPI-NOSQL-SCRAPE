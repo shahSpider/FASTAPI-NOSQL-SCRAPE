{
 "cells": [
  {
   "cell_type": "code",
   "execution_count": 1,
   "id": "c7a1f1d6-d88a-4700-abb1-c55fb0405bc6",
   "metadata": {},
   "outputs": [],
   "source": [
    "import requests"
   ]
  },
  {
   "cell_type": "code",
   "execution_count": 14,
   "id": "d10c7640-509b-41fa-bf4d-039fed42d77d",
   "metadata": {},
   "outputs": [
    {
     "name": "stdout",
     "output_type": "stream",
     "text": [
      "{'asin': 'TESTHTTP102', 'title': 'Test HTTP', 'price': '$ 100'}\n"
     ]
    }
   ],
   "source": [
    "endpoint1 = f\"http://127.0.0.1:8000/events/scrape\"\n",
    "\n",
    "r = requests.post(endpoint1, json={\"asin\": \"TESTHTTP102\", \"title\": \"Test HTTP\", \"price\": \"$ 100\"})\n",
    "print(r.json())"
   ]
  },
  {
   "cell_type": "code",
   "execution_count": 43,
   "id": "2beca462-1737-4987-a6fb-81bacad930c6",
   "metadata": {},
   "outputs": [
    {
     "name": "stdout",
     "output_type": "stream",
     "text": [
      "12\n"
     ]
    }
   ],
   "source": [
    "asin = \"TESTHTTP10X\"\n",
    "endpoint2 = f\"http://127.0.0.1:8000/products/{asin}/events\"\n",
    "r2 = requests.get(endpoint2)\n",
    "print(len(r2.json()))"
   ]
  },
  {
   "cell_type": "code",
   "execution_count": 42,
   "id": "0e2cb560-e662-4632-bfab-28f138fe0768",
   "metadata": {},
   "outputs": [
    {
     "name": "stdout",
     "output_type": "stream",
     "text": [
      "{'asin': 'TESTHTTP10X', 'title': 'Test HTTP X', 'price': '$ 100'}\n"
     ]
    }
   ],
   "source": [
    "base_url = \"https://0ea0-39-34-153-231.ngrok-free.app\"\n",
    "path = \"/events/scrape\"\n",
    "endpoint = f\"{base_url}{path}\"\n",
    "r = requests.post(endpoint, json={\"asin\": \"TESTHTTP10X\", \"title\": \"Test HTTP X\", \"price\": \"$ 100\"})\n",
    "print(r.json())"
   ]
  },
  {
   "cell_type": "code",
   "execution_count": null,
   "id": "abc2b19c-f3e4-4f71-afdd-a1837bfd6e5d",
   "metadata": {},
   "outputs": [],
   "source": []
  },
  {
   "cell_type": "code",
   "execution_count": null,
   "id": "d8862cf3-1e75-4834-a514-431a68c0c009",
   "metadata": {},
   "outputs": [],
   "source": []
  }
 ],
 "metadata": {
  "kernelspec": {
   "display_name": "Python 3 (ipykernel)",
   "language": "python",
   "name": "python3"
  },
  "language_info": {
   "codemirror_mode": {
    "name": "ipython",
    "version": 3
   },
   "file_extension": ".py",
   "mimetype": "text/x-python",
   "name": "python",
   "nbconvert_exporter": "python",
   "pygments_lexer": "ipython3",
   "version": "3.10.12"
  }
 },
 "nbformat": 4,
 "nbformat_minor": 5
}
