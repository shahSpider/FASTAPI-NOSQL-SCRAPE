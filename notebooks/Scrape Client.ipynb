{
 "cells": [
  {
   "cell_type": "code",
   "execution_count": 1,
   "id": "4490129a-3644-467b-ac4d-2f677c5e66b7",
   "metadata": {},
   "outputs": [
    {
     "name": "stdout",
     "output_type": "stream",
     "text": [
      "/home/darkshadow/mycodinghub/fastapi-nosql-scrape\n"
     ]
    },
    {
     "name": "stderr",
     "output_type": "stream",
     "text": [
      "/home/darkshadow/mycodinghub/fastapi-nosql-scrape/lib/python3.10/site-packages/IPython/core/magics/osm.py:417: UserWarning: This is now an optional IPython functionality, setting dhist requires you to install the `pickleshare` library.\n",
      "  self.shell.db['dhist'] = compress_dhist(dhist)[-100:]\n"
     ]
    }
   ],
   "source": [
    "cd '/home/darkshadow/mycodinghub/fastapi-nosql-scrape/'"
   ]
  },
  {
   "cell_type": "code",
   "execution_count": 2,
   "id": "1e2830b3-7bce-4d53-9308-21c27e8140c7",
   "metadata": {},
   "outputs": [],
   "source": [
    "from app import scraper\n",
    "from requests_html import HTML\n",
    "from slugify import slugify\n",
    "import pprint\n",
    "import re"
   ]
  },
  {
   "cell_type": "code",
   "execution_count": 3,
   "id": "c0122da4-03b8-4a58-9fe7-fafac0a7b6ff",
   "metadata": {},
   "outputs": [],
   "source": [
    "url = \"https://www.amazon.com/Vita-Prep-Explorian-Commercial-Container-Warranty/dp/B0CB8J793R/ref=sr_1_1_sspa?crid=123H40Z2FWPK9&dib=eyJ2IjoiMSJ9.W2cBja_MKochFhWAIGO0YZjg4_HheUF5sxXBWOHqFkEf4bNFBJxnGgEGb5SQvhYiHKB63keSyaOK0Y6wcyUeLlRz9IZiltXsUE9B15a9WxNDQzqz0lcqzM7BY-O1r5KufgyrhVfHUMjqtEwF5Bx_gQ--r67zEUY58e4y-niPr2--VOu51cStJfS66F33L4lvlnKuCZY1F08urjJO8duzAa4J8FbiNDZazz3w9xqdOdFkqBB-Q8c1-HvXRfPrOnHGgiK5DTag1tEQqV_li7tZqufqRzLg_1cY9KRIgy-e4_s.xCp8M7Ws_Zsa8k-JWsfxLRe6I1fth339p0kEVzzWQ3E&dib_tag=se&keywords=vitamix%2Bblender%2Bparts&qid=1731612355&sprefix=vitamix%2Caps%2C256&sr=8-1-spons&sp_csd=d2lkZ2V0TmFtZT1zcF9hdGY&th=1\""
   ]
  },
  {
   "cell_type": "code",
   "execution_count": 4,
   "id": "c3e07e18-e7ad-4b25-a0b7-373fe3b71849",
   "metadata": {},
   "outputs": [],
   "source": [
    "s = scraper.Scraper(url=url, endless_scroll=True)"
   ]
  },
  {
   "cell_type": "code",
   "execution_count": 5,
   "id": "82cea4c9-12fc-4ca7-8a46-8db923375dfb",
   "metadata": {},
   "outputs": [
    {
     "data": {
      "text/plain": [
       "{'price_str': '$59.99',\n",
       " 'title_str': 'For Vitamix Blender Pitcher 64oz,Replace for Vitamix 5200 5000 6300 7500 VM0197 VM0101 VM0100 VM0103 E310 Asy172 Classic/Explorian/Commercial Series etc Container Jar Cup,10 Years Warranty',\n",
       " 'price': '$59.99',\n",
       " 'price_raw': '$59.99',\n",
       " 'amazonglobal-shipping': '$73.91',\n",
       " 'amazonglobal-shipping_raw': '$73.91',\n",
       " 'estimated-import-charges': '$543.95',\n",
       " 'estimated-import-charges_raw': '$543.95',\n",
       " 'total': '$677.85',\n",
       " 'total_raw': '$677.85',\n",
       " 'capacity': '4 Pounds',\n",
       " 'product-dimensions': '6.29\"D x 6.3\"W x 11.8\"H',\n",
       " 'item-weight': '\\u200e2.99 pounds',\n",
       " 'asin': '\\u200eB0CB8J793R',\n",
       " 'country-of-origin': '\\u200eChina',\n",
       " 'customer-reviews': '4.2 out of 5 stars  202Reviews',\n",
       " 'best-sellers-rank': '#63,332 in Home & Kitchen (See Top 100 in Home & Kitchen) \\n\\n#60 in Blender Replacement Parts',\n",
       " 'date-first-available': '\\u200eJuly 6, 2023'}"
      ]
     },
     "execution_count": 5,
     "metadata": {},
     "output_type": "execute_result"
    }
   ],
   "source": [
    "dataset = s.scrape()\n",
    "dataset"
   ]
  },
  {
   "cell_type": "code",
   "execution_count": null,
   "id": "d6cbb09a-3bf0-4cd2-b0af-de69b566028f",
   "metadata": {},
   "outputs": [],
   "source": []
  }
 ],
 "metadata": {
  "kernelspec": {
   "display_name": "Python 3 (ipykernel)",
   "language": "python",
   "name": "python3"
  },
  "language_info": {
   "codemirror_mode": {
    "name": "ipython",
    "version": 3
   },
   "file_extension": ".py",
   "mimetype": "text/x-python",
   "name": "python",
   "nbconvert_exporter": "python",
   "pygments_lexer": "ipython3",
   "version": "3.10.12"
  }
 },
 "nbformat": 4,
 "nbformat_minor": 5
}
