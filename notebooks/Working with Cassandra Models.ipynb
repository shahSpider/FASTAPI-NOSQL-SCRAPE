{
 "cells": [
  {
   "cell_type": "code",
   "execution_count": 10,
   "id": "31174e06-9f15-4a95-9770-4df01ea238ed",
   "metadata": {},
   "outputs": [
    {
     "name": "stdout",
     "output_type": "stream",
     "text": [
      "/home/darkshadow/mycodinghub/fastapi-nosql-scrape\n"
     ]
    },
    {
     "name": "stderr",
     "output_type": "stream",
     "text": [
      "/home/darkshadow/mycodinghub/fastapi-nosql-scrape/lib/python3.10/site-packages/IPython/core/magics/osm.py:417: UserWarning: This is now an optional IPython functionality, setting dhist requires you to install the `pickleshare` library.\n",
      "  self.shell.db['dhist'] = compress_dhist(dhist)[-100:]\n"
     ]
    }
   ],
   "source": [
    "cd /home/darkshadow/mycodinghub/fastapi-nosql-scrape/"
   ]
  },
  {
   "cell_type": "code",
   "execution_count": 2,
   "id": "dbe9b435-5871-460c-892e-842238a5b422",
   "metadata": {},
   "outputs": [],
   "source": [
    "from app import db, crud, models"
   ]
  },
  {
   "cell_type": "code",
   "execution_count": 3,
   "id": "2c6c1091-feb9-4929-bb3b-6ca7e1c490fe",
   "metadata": {},
   "outputs": [],
   "source": [
    "session = db.get_session()"
   ]
  },
  {
   "cell_type": "code",
   "execution_count": 4,
   "id": "14885c95-d347-487a-bf87-9997f22529e3",
   "metadata": {},
   "outputs": [
    {
     "data": {
      "text/plain": [
       "{'asin': 'AMZNNUMBERIDX', 'title': 'Product X', 'price': '$99'}"
      ]
     },
     "execution_count": 4,
     "metadata": {},
     "output_type": "execute_result"
    }
   ],
   "source": [
    "data = models.data\n",
    "data"
   ]
  },
  {
   "cell_type": "code",
   "execution_count": 5,
   "id": "4b997134-cb85-437f-8e21-17c2fc0cc689",
   "metadata": {},
   "outputs": [
    {
     "data": {
      "text/plain": [
       "(Product(asin='AMZNNUMBERIDX', title='Product X', price='$99'),\n",
       " ProductScrapeEvent(uuid=UUID('fa09b2ca-909d-11ef-9197-6da5cd0accd2'), asin='AMZNNUMBERIDX', title='Product X', price='$99'))"
      ]
     },
     "execution_count": 5,
     "metadata": {},
     "output_type": "execute_result"
    }
   ],
   "source": [
    "crud.add_scrape_event(data, fresh=True)"
   ]
  },
  {
   "cell_type": "code",
   "execution_count": 6,
   "id": "fdb92d28-ba29-4c1c-b8f6-be66e06f5f75",
   "metadata": {},
   "outputs": [
    {
     "name": "stdout",
     "output_type": "stream",
     "text": [
      "AMZNNUMBERIDX Product X\n",
      "AMZNCHJDFDSLX Pandora Box\n",
      "AMZNCHJDFDSLX Pandora Box\n",
      "AMZNNUMBERIDX Product X\n",
      "AMZNNUMBERIDX Product X\n",
      "AMZNCHJDFDSLX Pandora Box\n",
      "AMZNNUMBERID3 Product C\n",
      "AMZNNUMBERIDX Product X\n",
      "NMZJHDLND Hello World\n",
      "NMZJHDLND Hello World\n",
      "AMZNCHJDFDSLX Pandora Box\n",
      "AMZNCHJDFDSLX Pandora Box\n",
      "AMZNNUMBERIDX Product X\n",
      "AMZNCHJDFDSLX Pandora Box\n",
      "AMZNCHJDFDSLX Pandora Box\n",
      "AMZNNUMBERIDX Product X\n",
      "AMZNNUMBERIDX Product X\n",
      "NMZJHDLND Hello World\n",
      "AMZNCHJDFDSLX Pandora Box\n",
      "NMZJHDLND Hello World\n",
      "NMZJHDLND Hello World\n",
      "NMZJHDLND Hello World\n",
      "AMZNNUMBERIDX Product X\n",
      "NMZJHDLND Hello World\n",
      "NMZJHDLND Hello World\n",
      "AMZNNUMBERIDX Product X\n",
      "AMZNNUMBERIDX Product X\n",
      "AMZNNUMBERIDX Product X\n",
      "AMZNNUMBERIDX Product X\n",
      "AMZNNUMBERIDX Product X\n",
      "AMZNCHJDFDSLX Pandora Box\n",
      "AMZNCHJDFDSLX Pandora Box\n",
      "NMZJHDLND Hello World\n",
      "NMZJHDLND Hello World\n",
      "AMZNNUMBERIDX Product X\n",
      "NMZJHDLND Hello World\n",
      "AMZNNUMBERIDX Product X\n",
      "NMZJHDLND Strawberry\n",
      "AMZNNUMBERIDX Product X\n",
      "AMZNCHJDFDSLX Pandora Box\n",
      "NMZJHDLND Mango\n",
      "AMZNNUMBERIDX Product X\n",
      "AMZNCHJDFDSLX Pandora Box\n",
      "AMZNCHJDFDSLX Pandora Box\n",
      "AMZNNUMBERID3 Product C\n",
      "AMZNNUMBERIDX Product X\n",
      "AMZNCHJDFDSLX Pandora Box\n",
      "NMZJHDLND Hello World\n",
      "AMZNNUMBERIDX Product X\n",
      "NMZJHDLND Hello World\n",
      "NMZJHDLND Hello World\n",
      "AMZNCHJDFDSLX Pandora Box\n",
      "AMZNNUMBERIDX Product X\n",
      "AMZNCHJDFDSLX Pandora Box\n",
      "AMZNNUMBERIDX Product X\n",
      "AMZNCHJDFDSLX Pandora Box\n"
     ]
    }
   ],
   "source": [
    " for obj in models.ProductScrapeEvent.objects.all():\n",
    "    print(obj.asin, obj.title)"
   ]
  },
  {
   "cell_type": "code",
   "execution_count": 7,
   "id": "065f2d87-371b-44c0-a93c-43788cdf0b3a",
   "metadata": {},
   "outputs": [
    {
     "name": "stdout",
     "output_type": "stream",
     "text": [
      "SELECT * FROM scraper_app.product LIMIT 10000\n",
      "ASIN: AMZNNUMBERID, Title: Product A\n",
      "ASIN: AMZNNUMBERID2, Title: Product B\n",
      "ASIN: NMZJHDLND, Title: Strawberry\n",
      "ASIN: AMZNNUMBERIDX, Title: Product X\n",
      "ASIN: AMZNCHJDFDSLX, Title: Pandora Box\n",
      "ASIN: AMZNNUMBERID3, Title: Product C\n"
     ]
    }
   ],
   "source": [
    "q = models.Product.objects.all()\n",
    "cquery = str(q._select_query())\n",
    "print(cquery)\n",
    "for row in session.execute(cquery):\n",
    "    print(f\"ASIN: {row.get('asin')}, Title: {row.get('title')}\")"
   ]
  },
  {
   "cell_type": "code",
   "execution_count": 8,
   "id": "04b95758-7f0a-491d-a572-e7c58cfe1f9f",
   "metadata": {},
   "outputs": [
    {
     "name": "stdout",
     "output_type": "stream",
     "text": [
      "UUID: 8c470598-8fdb-11ef-9218-7dfb9eb411ff, Title: Product X\n",
      "UUID: 7dcc2490-8fcb-11ef-9218-7dfb9eb411ff, Title: Product X\n",
      "UUID: fa09b2ca-909d-11ef-9197-6da5cd0accd2, Title: Product X\n",
      "UUID: c5df105e-8fd4-11ef-9218-7dfb9eb411ff, Title: Product X\n",
      "UUID: 9c6b6ada-8e3d-11ef-b2e1-41fbf624851c, Title: Product X\n",
      "UUID: b63d18a4-8fd3-11ef-9218-7dfb9eb411ff, Title: Product X\n",
      "UUID: e875e862-8e0e-11ef-b2e1-41fbf624851c, Title: Product X\n",
      "UUID: 9c6b6adc-8e3d-11ef-b2e1-41fbf624851c, Title: Product X\n",
      "UUID: 03a2f12c-8fd4-11ef-9218-7dfb9eb411ff, Title: Product X\n",
      "UUID: 6eb1f1a2-8e3f-11ef-b2e1-41fbf624851c, Title: Product X\n",
      "UUID: 47be639a-8e3b-11ef-b2e1-41fbf624851c, Title: Product X\n",
      "UUID: b7e7fc0e-8e3f-11ef-b2e1-41fbf624851c, Title: Product X\n",
      "UUID: 9c6b6add-8e3d-11ef-b2e1-41fbf624851c, Title: Product X\n",
      "UUID: a0a70438-8e3d-11ef-b2e1-41fbf624851c, Title: Product X\n",
      "UUID: 8b943f98-8fcd-11ef-9218-7dfb9eb411ff, Title: Product X\n",
      "UUID: bb41d7a4-8fce-11ef-9218-7dfb9eb411ff, Title: Product X\n",
      "UUID: 8e04e10c-8e3c-11ef-b2e1-41fbf624851c, Title: Product X\n",
      "UUID: f1f35c54-8fd4-11ef-9218-7dfb9eb411ff, Title: Product X\n",
      "UUID: 9c6b6adb-8e3d-11ef-b2e1-41fbf624851c, Title: Product X\n",
      "UUID: adf7e06a-8fd4-11ef-9218-7dfb9eb411ff, Title: Product X\n",
      "UUID: a43d78c0-8e3d-11ef-b2e1-41fbf624851c, Title: Product X\n"
     ]
    }
   ],
   "source": [
    "for record in session.execute(\"select * from scraper_app.product_scrape_event where asin = 'AMZNNUMBERIDX'\"):\n",
    "    print(f\"UUID: {record.get('uuid')}, Title: {record.get('title')}\")"
   ]
  },
  {
   "cell_type": "code",
   "execution_count": 9,
   "id": "b3b3f302-c4ee-4590-861a-9c4e8910fb19",
   "metadata": {},
   "outputs": [
    {
     "name": "stdout",
     "output_type": "stream",
     "text": [
      "{'asin': 'AMZNNUMBERID', 'price': '99$', 'title': 'Product A'}\n",
      "{'asin': 'AMZNNUMBERID2', 'price': '100$', 'title': 'Product B'}\n",
      "{'asin': 'NMZJHDLND', 'price': '$20', 'title': 'Strawberry'}\n",
      "{'asin': 'AMZNNUMBERIDX', 'price': '$99', 'title': 'Product X'}\n",
      "{'asin': 'AMZNCHJDFDSLX', 'price': '0$', 'title': 'Pandora Box'}\n",
      "{'asin': 'AMZNNUMBERID3', 'price': '0$', 'title': 'Product C'}\n"
     ]
    }
   ],
   "source": [
    "q = models.Product.objects.all()\n",
    "cquery = str(q._select_query())\n",
    "for row in session.execute(cquery):\n",
    "    print(row)"
   ]
  },
  {
   "cell_type": "code",
   "execution_count": null,
   "id": "d7e66f7e-d345-488e-a5bf-d91cd1810af1",
   "metadata": {},
   "outputs": [],
   "source": []
  }
 ],
 "metadata": {
  "kernelspec": {
   "display_name": "Python 3 (ipykernel)",
   "language": "python",
   "name": "python3"
  },
  "language_info": {
   "codemirror_mode": {
    "name": "ipython",
    "version": 3
   },
   "file_extension": ".py",
   "mimetype": "text/x-python",
   "name": "python",
   "nbconvert_exporter": "python",
   "pygments_lexer": "ipython3",
   "version": "3.10.12"
  }
 },
 "nbformat": 4,
 "nbformat_minor": 5
}
